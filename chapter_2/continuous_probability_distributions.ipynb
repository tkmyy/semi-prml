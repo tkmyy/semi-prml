{
 "cells": [
  {
   "cell_type": "code",
   "execution_count": 1,
   "metadata": {},
   "outputs": [],
   "source": [
    "import numpy as np\n",
    "import pandas as pd\n",
    "from math import gamma\n",
    "import matplotlib.pyplot as plt\n",
    "\n",
    "plt.rcParams[\"font.size\"] = 16\n",
    "plt.rcParams[\"axes.axisbelow\"] = True"
   ]
  },
  {
   "cell_type": "markdown",
   "metadata": {},
   "source": [
    "## 一様分布\n",
    "---\n",
    "### 概要\n",
    "- $x$ がどんな値でも密度関数が一定の値をとる.\n",
    "\n",
    "### 密度関数\n",
    "$$\n",
    "\\begin{align*}\n",
    "p(x|a,b) = \n",
    "\\left\\{\n",
    "\\begin{array}{ll}\n",
    "\\frac{1}{b-a} & (a\\leq x\\leq b) \\\\\n",
    "0 & (x< a, b< x)\n",
    "\\end{array}\n",
    "\\right.\n",
    "\\end{align*}\n",
    "$$\n",
    "\n",
    "### 期待値\n",
    "$$\n",
    "\\begin{align*}\n",
    "\\mathrm{E}[x] &= \\int_{a}^{b} x \\frac{1}{b-a} \\mathrm{d}x \\\\\n",
    "&= \\frac{1}{b-a} \\left[\\frac{1}{2}x^2\\right]^b_a \\\\\n",
    "&= \\frac{1}{b-a} \\frac{1}{2} \\left(b^2-a^2\\right) \\\\\n",
    "&= \\frac{1}{2} (a+b)\n",
    "\\end{align*}\n",
    "$$\n",
    "\n",
    "### 分散\n",
    "$$\n",
    "\\begin{align*}\n",
    "\\mathrm{E}[x^2] &= \\int_{a}^{b} x^2 \\frac{1}{b-a} \\mathrm{d}x \\\\\n",
    "&= \\frac{1}{b-a} \\left[\\frac{1}{3}x^3\\right]^b_a \\\\\n",
    "&= \\frac{1}{b-a} \\frac{1}{3} \\left(b^3-a^3\\right) \\\\\n",
    "&= \\frac{1}{3} \\left(a^2+ab+b^2 \\right)\n",
    "\\end{align*}\n",
    "$$\n",
    "\n",
    "$$\n",
    "\\begin{align*}\n",
    "\\mathrm{Var}[x] &= \\mathrm{E}[x^2] -  \\mathrm{E}[x]^2\\\\\n",
    "&= \\frac{1}{3} \\left(a^2+ab+b^2 \\right) -  \\frac{1}{4} \\left(a^2+2ab+b^2 \\right)\\\\\n",
    "&= \\frac{1}{12} \\left(a^2-2ab+b^2 \\right)\\\\\n",
    "&= \\frac{1}{12} (a-b)^2\n",
    "\\end{align*}\n",
    "$$"
   ]
  },
  {
   "cell_type": "code",
   "execution_count": 2,
   "metadata": {
    "scrolled": true
   },
   "outputs": [
    {
     "data": {
      "image/png": "[encoded data removed]",
      "text/plain": [
       "<Figure size 432x216 with 1 Axes>"
      ]
     },
     "metadata": {
      "needs_background": "light"
     },
     "output_type": "display_data"
    }
   ],
   "source": [
    "def continuous_uniform(x, a, b):\n",
    "    return np.array([1/(b-a) if (a<=i)&(i<=b) else 0 for i in x])\n",
    "\n",
    "a, b = 1, 3\n",
    "x = np.linspace(-1, 5, 1000)\n",
    "p_x = continuous_uniform(x, a, b)\n",
    "\n",
    "plt.figure(figsize=(6, 3))\n",
    "plt.plot(x, p_x)\n",
    "plt.title(\"連続一様分布 ($a=1, b=3$)\")\n",
    "plt.xlabel(\"$x$\")\n",
    "plt.ylabel(\"$p(x)$\")\n",
    "plt.ylim(0, 0.9)\n",
    "plt.grid()\n",
    "plt.show()"
   ]
  },
  {
   "cell_type": "markdown",
   "metadata": {},
   "source": [
    "## 正規分布\n",
    "---\n",
    "### 概要\n",
    "- 最も重要な分布.\n",
    "- $\\mu=0, \\sigma^2=1$ の場合を特に**標準正規分布**という.\n",
    "\n",
    "### 密度関数\n",
    "$$\n",
    "\\begin{align*}\n",
    "p\\left(x|\\mu, \\sigma^2\\right) = \\frac{1}{\\sqrt{2\\pi\\sigma^2}} \\exp\\left\\lbrace{-\\frac{(x-\\mu)^2}{2\\sigma^2}}\\right\\rbrace,\\quad -\\infty<x<\\infty\n",
    "\\end{align*}\n",
    "$$\n",
    "\n",
    "### 平均\n",
    "$$\n",
    "\\begin{align*}\n",
    "\\mathrm{E}[x] &= \\int_{-\\infty}^{\\infty} x \\frac{1}{\\sqrt{2\\pi\\sigma^2}} \\exp\\left\\lbrace{-\\frac{(x-\\mu)^2}{2\\sigma^2}}\\right\\rbrace \\mathrm{d}x \\\\\n",
    "&= \\frac{1}{\\sqrt{2\\pi\\sigma^2}} \\int_{-\\infty}^{\\infty} x \\exp\\left\\lbrace{-\\frac{(x-\\mu)^2}{2\\sigma^2}}\\right\\rbrace \\mathrm{d}x \\\\\n",
    "&= \\frac{1}{\\sqrt{2\\pi\\sigma^2}} \\int_{-\\infty}^{\\infty} (x-\\mu) \\exp\\left\\lbrace{-\\frac{(x-\\mu)^2}{2\\sigma^2}}\\right\\rbrace \\mathrm{d}x +\n",
    "\\frac{1}{\\sqrt{2\\pi\\sigma^2}} \\int_{-\\infty}^{\\infty} \\mu \\exp\\left\\lbrace{-\\frac{(x-\\mu)^2}{2\\sigma^2}}\\right\\rbrace \\mathrm{d}x\n",
    "\\end{align*}\n",
    "$$\n",
    "\n",
    "第2項について, $p(x)$ は正規化されているので,\n",
    "\n",
    "$$\n",
    "\\begin{align*}\n",
    "\\frac{1}{\\sqrt{2\\pi\\sigma^2}} \\int_{-\\infty}^{\\infty} \\mu \\exp\\left\\lbrace{-\\frac{(x-\\mu)^2}{2\\sigma^2}}\\right\\rbrace \\mathrm{d}x &= \\mu\\int_{-\\infty}^{\\infty} p(x) \\mathrm{d}x  \\\\\n",
    "&= \\mu\n",
    "\\end{align*}\n",
    "$$\n",
    "\n",
    "となる. また, 第1項は $x-\\mu=t$ とおくと, $f(t)=t\\exp\\left\\lbrace{-\\frac{t^2}{2\\sigma^2}}\\right\\rbrace$ は奇関数なので,\n",
    "\n",
    "$$\n",
    "\\begin{align*}\n",
    "\\frac{1}{\\sqrt{2\\pi\\sigma^2}} \\int_{-\\infty}^{\\infty} t \\exp\\left\\lbrace{-\\frac{t^2}{2\\sigma^2}}\\right\\rbrace \\mathrm{d}t &= 0\\\\ \n",
    "\\end{align*}\n",
    "$$\n",
    "\n",
    "$$\n",
    "\\begin{align*}\n",
    "\\therefore \\mathrm{E}[x] = 0 + \\mu = \\mu\n",
    "\\end{align*}\n",
    "$$\n",
    "\n",
    "\n",
    "### 分散\n",
    "$$\n",
    "\\begin{align*}\n",
    "\\mathrm{Var}[x] &= \\int_{-\\infty}^{\\infty} (x-\\mu)^2 \\frac{1}{\\sqrt{2\\pi\\sigma^2}} \\exp\\left\\lbrace{-\\frac{(x-\\mu)^2}{2\\sigma^2}}\\right\\rbrace \\mathrm{d}x \\\\\n",
    "&= \\frac{1}{\\sqrt{2\\pi\\sigma^2}} \\int_{-\\infty}^{\\infty} (x-\\mu)^2 \\exp\\left\\lbrace{-\\frac{(x-\\mu)^2}{2\\sigma^2}}\\right\\rbrace \\mathrm{d}x \\\\\n",
    "\\end{align*}\n",
    "$$\n",
    "\n",
    "$x-\\mu=t$ とおくと, 部分積分及びガウス積分を用いて,\n",
    "\n",
    "$$\n",
    "\\begin{align*}\n",
    "\\mathrm{Var}[x] &= \\frac{1}{\\sqrt{2\\pi\\sigma^2}} \\int_{-\\infty}^{\\infty} t^2 \\exp\\left\\lbrace{-\\frac{t^2}{2\\sigma^2}}\\right\\rbrace \\mathrm{d}t \\\\\n",
    "&= \\frac{1}{\\sqrt{2\\pi\\sigma^2}} \\int_{-\\infty}^{\\infty} t \\cdot t\\exp\\left\\lbrace{-\\frac{t^2}{2\\sigma^2}}\\right\\rbrace \\mathrm{d}t \\\\\n",
    "&= \\frac{1}{\\sqrt{2\\pi\\sigma^2}} \\int_{-\\infty}^{\\infty} t \\left(-\\sigma^2 \\exp\\left\\lbrace{-\\frac{t^2}{2\\sigma^2}}\\right\\rbrace  \\right)^{\\prime} \\mathrm{d}t \\\\\n",
    "&= \\frac{1}{\\sqrt{2\\pi\\sigma^2}} \\left\\lbrace \\left[ -t\\sigma^2 \\exp\\left\\lbrace{-\\frac{t^2}{2\\sigma^2}}\\right\\rbrace \\right]^\\infty_{-\\infty} + \n",
    "\\sigma^2 \\int_{-\\infty}^{\\infty} \\exp\\left\\lbrace{-\\frac{t^2}{2\\sigma^2}}\\right\\rbrace \\mathrm{d}t \\right\\rbrace \\\\\n",
    "&= \\frac{1}{\\sqrt{2\\pi\\sigma^2}} \\left(0 + \\sigma^2\\sqrt{2\\pi\\sigma^2}\\right) \\\\\n",
    "&= \\sigma^2\n",
    "\\end{align*}\n",
    "$$"
   ]
  },
  {
   "cell_type": "code",
   "execution_count": 3,
   "metadata": {},
   "outputs": [
    {
     "data": {
      "image/png": "[encoded data removed]",
      "text/plain": [
       "<Figure size 432x216 with 1 Axes>"
      ]
     },
     "metadata": {
      "needs_background": "light"
     },
     "output_type": "display_data"
    }
   ],
   "source": [
    "def normal(x, mu, sigma):\n",
    "    return 1/np.sqrt(2*np.pi*sigma**2)*np.exp(-((x-mu)/sigma**2)**2/2)\n",
    "\n",
    "mu, sigma = 0, 1\n",
    "x = np.linspace(-5, 5, 1000)\n",
    "p_x = normal(x, mu, sigma)\n",
    "\n",
    "plt.figure(figsize=(6, 3))\n",
    "plt.plot(x, p_x)\n",
    "plt.title(f\"正規分布 ($\\mu={mu}, \\sigma^2={sigma**2}$)\")\n",
    "plt.xlabel(\"$x$\")\n",
    "plt.ylabel(\"$p(x)$\")\n",
    "plt.ylim(0, 0.6)\n",
    "plt.grid()\n",
    "plt.show()"
   ]
  },
  {
   "cell_type": "markdown",
   "metadata": {},
   "source": [
    "## ガンマ分布\n",
    "---\n",
    "### 概要\n",
    "- 非負の実数数直線上の確率分布の中で代表的な確率分布.\n",
    "- 指数分布, カイ2乗分布の一般系.\n",
    "\n",
    "### 密度関数\n",
    "$$\n",
    "\\begin{align*}\n",
    "p\\left(x|\\alpha, \\beta\\right) = \\frac{1}{\\Gamma{(\\alpha)}} \\frac{1}{\\beta} \\left(\\frac{x}{\\beta}\\right)^{\\alpha-1}  \\mathrm{e}^{-\\frac{x}{\\beta}},\\quad x>0\n",
    "\\end{align*}\n",
    "$$\n",
    "\n",
    "### 平均\n",
    "$$\n",
    "\\begin{align*}\n",
    "\\mathrm{E}[x] &= \\int_{0}^{\\infty} x \\frac{1}{\\Gamma{(\\alpha)}} \\frac{1}{\\beta} \\left(\\frac{x}{\\beta}\\right)^{\\alpha-1} \\mathrm{e}^{-\\frac{x}{\\beta}} \\mathrm{d}x\\\\\n",
    "&= \\frac{1}{\\Gamma{(\\alpha)}} \\frac{1}{\\beta^{\\alpha}} \\int_{0}^{\\infty} x^{\\alpha} \\mathrm{e}^{-\\frac{x}{\\beta}} \\mathrm{d}x\n",
    "\\end{align*}\n",
    "$$\n",
    "\n",
    "$u=\\frac{x}{\\beta}$ とおくと, ガンマ関数の形ができる.\n",
    "\n",
    "$$\n",
    "\\begin{align*}\n",
    "\\mathrm{E}[x] &= \\frac{1}{\\Gamma{(\\alpha)}} \\frac{1}{\\beta^{\\alpha}} \\int_{0}^{\\infty} (\\beta u)^{\\alpha} \\mathrm{e}^{-u} \\beta \\mathrm{d}u \\\\\n",
    "&= \\frac{\\beta}{\\Gamma{(\\alpha)}} \\int_{0}^{\\infty} u^{\\alpha} \\mathrm{e}^{-u}\\mathrm{d}u \\\\\n",
    "&= \\frac{\\beta}{\\Gamma{(\\alpha)}} \\Gamma{(\\alpha+1)} \\\\\n",
    "&= \\alpha\\beta\n",
    "\\end{align*}\n",
    "$$\n",
    "\n",
    "### 分散\n",
    "$$\n",
    "\\begin{align*}\n",
    "\\mathrm{E}[x^2] &= \\int_{0}^{\\infty} x^2 \\frac{1}{\\Gamma{(\\alpha)}} \\frac{1}{\\beta} \\left(\\frac{x}{\\beta}\\right)^{\\alpha-1} \\mathrm{e}^{-\\frac{x}{\\beta}} \\mathrm{d}x \\\\\n",
    "&= \\frac{1}{\\Gamma{(\\alpha)}} \\frac{1}{\\beta^{\\alpha}} \\int_{0}^{\\infty} x^{\\alpha+1} \\mathrm{e}^{-\\frac{x}{\\beta}} \\mathrm{d}x\n",
    "\\end{align*}\n",
    "$$\n",
    "\n",
    "同様に $u=\\frac{x}{\\beta}$ とおくと,\n",
    "\n",
    "$$\n",
    "\\begin{align*}\n",
    "\\mathrm{E}[x^2] &= \\frac{1}{\\Gamma{(\\alpha)}} \\frac{1}{\\beta^{\\alpha}} \\int_{0}^{\\infty} (\\beta u)^{\\alpha+1} \\mathrm{e}^{-u} \\beta \\mathrm{d}u \\\\\n",
    "&= \\frac{\\beta^2}{\\Gamma{(\\alpha)}} \\int_{0}^{\\infty} u^{\\alpha+1} \\mathrm{e}^{-u}\\mathrm{d}u \\\\\n",
    "&= \\frac{\\beta^2}{\\Gamma{(\\alpha)}} \\Gamma{(\\alpha+2)} \\\\\n",
    "&= \\frac{\\beta^2}{\\Gamma{(\\alpha)}} (\\alpha+1)\\alpha\\Gamma{(\\alpha)} \\\\\n",
    "&= (\\alpha+1)\\alpha\\beta^2\n",
    "\\end{align*}\n",
    "$$\n",
    "\n",
    "となるので,\n",
    "\n",
    "$$\n",
    "\\begin{align*}\n",
    "\\mathrm{Var}[x] &= \\mathrm{E}[x^2] - \\mathrm{E}[x]^2 \\\\\n",
    "&= (\\alpha+1)\\alpha\\beta^2 - (\\alpha\\beta)^2 \\\\\n",
    "&= (\\alpha^2+\\alpha-\\alpha^2)\\beta^2 \\\\\n",
    "&= \\alpha\\beta^2\n",
    "\\end{align*}\n",
    "$$"
   ]
  },
  {
   "cell_type": "code",
   "execution_count": 4,
   "metadata": {
    "scrolled": true
   },
   "outputs": [
    {
     "data": {
      "image/png": "[encoded data removed]",
      "text/plain": [
       "<Figure size 432x216 with 1 Axes>"
      ]
     },
     "metadata": {
      "needs_background": "light"
     },
     "output_type": "display_data"
    }
   ],
   "source": [
    "def gamma_dist(x, alpha, beta):\n",
    "    return 1/(gamma(alpha)*beta)*(x/beta)**(alpha-1)*np.exp(-x/beta)\n",
    "\n",
    "alpha, beta = 2, 1\n",
    "x = np.linspace(0, 10, 1000)\n",
    "p_x = gamma_dist(x, alpha, beta)\n",
    "\n",
    "plt.figure(figsize=(6, 3))\n",
    "plt.plot(x, p_x)\n",
    "plt.title(fr\"ガンマ分布 ($\\alpha={alpha}, \\beta={beta}$)\")\n",
    "plt.xlabel(\"$x$\")\n",
    "plt.ylabel(\"$p(x)$\")\n",
    "plt.ylim(0, 0.6)\n",
    "plt.grid()\n",
    "plt.show()"
   ]
  },
  {
   "cell_type": "markdown",
   "metadata": {},
   "source": [
    "## カイ2乗分布\n",
    "---\n",
    "### 概要\n",
    "- ガンマ分布の特殊な場合.\n",
    "    - $\\alpha=\\frac{n}{2}, \\beta=2$\n",
    "- 確率変数 $Z$ が $\\mathcal{N}(0, 1)$ に従う時, $Z^2$ が $\\chi_1^2$ に従う.\n",
    "\n",
    "### 密度関数\n",
    "$$\n",
    "\\begin{align*}\n",
    "p(x) = \\frac{1}{\\Gamma{\\left(\\frac{n}{2}\\right)}} \\left(\\frac{1}{2}\\right)^{\\frac{n}{2}} x^{\\frac{n}{2}-1}  \\mathrm{e}^{-\\frac{x}{2}},\\quad x>0\n",
    "\\end{align*}\n",
    "$$\n",
    "\n",
    "### 平均\n",
    "ガンマ分布の結果に $\\alpha=\\frac{n}{2}, \\beta=2$ を代入.\n",
    "$$\n",
    "\\begin{align*}\n",
    "\\mathrm{E}[x] &= \\alpha\\beta \\\\\n",
    "&= \\frac{n}{2} \\cdot 2 \\\\\n",
    "&= n\n",
    "\\end{align*}\n",
    "$$\n",
    "\n",
    "### 分散\n",
    "同様に,\n",
    "$$\n",
    "\\begin{align*}\n",
    "\\mathrm{Var}[x] &= \\alpha\\beta^2 \\\\\n",
    "&= \\frac{n}{2} \\cdot 2^2 \\\\\n",
    "&= 2n\n",
    "\\end{align*}\n",
    "$$"
   ]
  },
  {
   "cell_type": "code",
   "execution_count": 5,
   "metadata": {},
   "outputs": [
    {
     "data": {
      "image/png": "[encoded data removed]",
      "text/plain": [
       "<Figure size 432x216 with 1 Axes>"
      ]
     },
     "metadata": {
      "needs_background": "light"
     },
     "output_type": "display_data"
    }
   ],
   "source": [
    "n = 1 # 自由度\n",
    "alpha, beta = n/2, 2\n",
    "x = np.linspace(0.01, 10, 1000)\n",
    "p_x = gamma_dist(x, alpha, beta)\n",
    "\n",
    "plt.figure(figsize=(6, 3))\n",
    "plt.plot(x, p_x)\n",
    "plt.title(fr\"カイ2乗分布 ($n={n}$)\")\n",
    "plt.xlabel(\"$x$\")\n",
    "plt.ylabel(\"$p(x)$\")\n",
    "plt.ylim(0, 1)\n",
    "plt.grid()\n",
    "plt.show()"
   ]
  },
  {
   "cell_type": "markdown",
   "metadata": {},
   "source": [
    "## 指数分布\n",
    "---\n",
    "### 概要\n",
    "- ガンマ分布の特殊な場合.\n",
    "    - $\\alpha=1, \\beta=\\frac{1}{\\lambda}$\n",
    "- 生存時間の分布として用いられる.\n",
    "\n",
    "### 密度関数\n",
    "$$\n",
    "\\begin{align*}\n",
    "p(x|\\lambda) = \\lambda \\mathrm{e}^{-\\lambda x},\\quad x>0\n",
    "\\end{align*}\n",
    "$$\n",
    "\n",
    "### 平均\n",
    "ガンマ分布の結果に $\\alpha=1, \\beta=\\frac{1}{\\lambda}$ を代入.\n",
    "$$\n",
    "\\begin{align*}\n",
    "\\mathrm{E}[x] &= \\alpha\\beta \\\\\n",
    "&= 1 \\cdot \\frac{1}{\\lambda} \\\\\n",
    "&= \\frac{1}{\\lambda}\n",
    "\\end{align*}\n",
    "$$\n",
    "\n",
    "### 分散\n",
    "同様に,\n",
    "$$\n",
    "\\begin{align*}\n",
    "\\mathrm{Var}[x] &= \\alpha\\beta^2 \\\\\n",
    "&= 1 \\cdot \\left(\\frac{1}{\\lambda}\\right)^2 \\\\\n",
    "&= \\frac{1}{\\lambda^2}\n",
    "\\end{align*}\n",
    "$$"
   ]
  },
  {
   "cell_type": "code",
   "execution_count": 6,
   "metadata": {},
   "outputs": [
    {
     "data": {
      "image/png": "[encoded data removed]",
      "text/plain": [
       "<Figure size 432x216 with 1 Axes>"
      ]
     },
     "metadata": {
      "needs_background": "light"
     },
     "output_type": "display_data"
    }
   ],
   "source": [
    "lam = 1\n",
    "alpha, beta = 1, 1/lam\n",
    "x = np.linspace(0.01, 5, 1000)\n",
    "p_x = gamma_dist(x, alpha, beta)\n",
    "\n",
    "plt.figure(figsize=(6, 3))\n",
    "plt.plot(x, p_x)\n",
    "plt.title(fr\"指数分布 ($\\lambda={lam}$)\")\n",
    "plt.xlabel(\"$x$\")\n",
    "plt.ylabel(\"$p(x)$\")\n",
    "plt.ylim(0, 1)\n",
    "plt.grid()\n",
    "plt.show()"
   ]
  }
 ],
 "metadata": {
  "kernelspec": {
   "display_name": "Python 3",
   "language": "python",
   "name": "python3"
  },
  "language_info": {
   "codemirror_mode": {
    "name": "ipython",
    "version": 3
   },
   "file_extension": ".py",
   "mimetype": "text/x-python",
   "name": "python",
   "nbconvert_exporter": "python",
   "pygments_lexer": "ipython3",
   "version": "3.8.3"
  }
 },
 "nbformat": 4,
 "nbformat_minor": 4
}
