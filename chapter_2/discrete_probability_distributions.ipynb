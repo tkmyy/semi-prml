{
 "cells": [
  {
   "cell_type": "code",
   "execution_count": 1,
   "metadata": {},
   "outputs": [],
   "source": [
    "import numpy as np\n",
    "import pandas as pd\n",
    "import matplotlib.pyplot as plt\n",
    "from scipy.special import comb\n",
    "import math\n",
    "\n",
    "plt.rcParams[\"font.size\"] = 16\n",
    "plt.rcParams[\"axes.axisbelow\"] = True"
   ]
  },
  {
   "cell_type": "markdown",
   "metadata": {},
   "source": [
    "## 離散一様分布\n",
    "---\n",
    "### 概要\n",
    "- $x=1,2,...,N$ となる確率が等しい.\n",
    "\n",
    "### 質量関数\n",
    "$$\n",
    "\\begin{align*}\n",
    "p(x|N) = \\frac{1}{N},\\quad(x=1,2,...,N)\n",
    "\\end{align*}\n",
    "$$\n",
    "\n",
    "### 期待値\n",
    "$$\n",
    "\\begin{align*}\n",
    "\\mathrm{E}[x] &= \\sum_{x=1}^N x\\frac{1}{N} \\\\\n",
    "&= \\frac{1}{N}\\frac{N(N+1)}{2} \\\\\n",
    "&= \\frac{N+1}{2}\n",
    "\\end{align*}\n",
    "$$\n",
    "\n",
    "### 分散\n",
    "$$\n",
    "\\begin{align*}\n",
    "\\mathrm{E}[x^2] &= \\sum_{x=1}^N x^2\\frac{1}{N} \\\\\n",
    "&= \\frac{1}{N}\\frac{N(N+1)(2N+1)}{6} \\\\\n",
    "&= \\frac{(N+1)(2N+1)}{6}\n",
    "\\end{align*}\n",
    "$$\n",
    "\n",
    "$$\n",
    "\\begin{align*}\n",
    "\\mathrm{Var}[x] &= \\mathrm{E}[x^2] - \\mathrm{E}[x]^2 \\\\\n",
    "&= \\frac{(N+1)(2N+1)}{6} - \\left(\\frac{N+1}{2}\\right)^2 \\\\\n",
    "&= \\frac{(N+1)(N-1)}{12}\n",
    "\\end{align*}\n",
    "$$"
   ]
  },
  {
   "cell_type": "code",
   "execution_count": 2,
   "metadata": {},
   "outputs": [
    {
     "data": {
      "image/png": "[encoded data removed]",
      "text/plain": [
       "<Figure size 432x216 with 1 Axes>"
      ]
     },
     "metadata": {
      "needs_background": "light"
     },
     "output_type": "display_data"
    }
   ],
   "source": [
    "def descrete_uniform(N):\n",
    "    return 1/N\n",
    "\n",
    "N = 6\n",
    "x = np.array([i for i in range(N)])\n",
    "p_x = descrete_uniform(N)\n",
    "\n",
    "plt.figure(figsize=(6, 3))\n",
    "plt.bar(x.astype(str), p_x, width=0.4)\n",
    "plt.title(\"離散一様分布 ($N=6$)\")\n",
    "plt.xlabel(\"$x$\")\n",
    "plt.ylabel(\"$p(x)$\")\n",
    "plt.ylim(0, 0.3)\n",
    "plt.grid(axis=\"y\")\n",
    "plt.show()"
   ]
  },
  {
   "cell_type": "markdown",
   "metadata": {},
   "source": [
    "## 二項分布\n",
    "---\n",
    "\n",
    "### 概要\n",
    "- 成功確率 $\\mu$ のベルヌーイ試行を独立に $N$ 回行った時の, **成功回数**の分布.\n",
    "\n",
    "### 質量関数\n",
    "$$\n",
    "\\begin{align*}\n",
    "p(x|N,\\mu) = \\binom{N}{x}\\mu^x(1-\\mu)^{N-x},\\quad(x=0,1,2,...,N)\n",
    "\\end{align*}\n",
    "$$\n",
    "\n",
    "### 期待値\n",
    "$$\n",
    "\\begin{align*}\n",
    "\\mathrm{E}[x] &= \\sum_{x=0}^N x\\binom{N}{x}\\mu^x(1-\\mu)^{N-x} \\\\\n",
    "&= \\sum_{x=1}^N N\\binom{N-1}{x-1}\\mu\\mu^{x-1}(1-\\mu)^{(N-1)-(x-1)} \\\\\n",
    "&= N\\mu\\sum_{x=1}^N \\binom{N-1}{x-1}\\mu^{x-1}(1-\\mu)^{(N-1)-(x-1)} \\\\\n",
    "&= N\\mu\n",
    "\\end{align*}\n",
    "$$\n",
    "\n",
    "### 分散\n",
    "$$\n",
    "\\begin{align*}\n",
    "\\mathrm{E}[x^2] &= \\sum_{x=0}^N x^2\\binom{N}{x}\\mu^x(1-\\mu)^{N-x} \\\\\n",
    "&= \\sum_{x=0}^N \\lbrace{x(x-1)+x \\rbrace} \\binom{N}{x}\\mu^x(1-\\mu)^{N-x} \\\\\n",
    "&= \\sum_{x=0}^N {x(x-1)} \\binom{N}{x}\\mu^x(1-\\mu)^{N-x} + \\sum_{x=0}^N x \\binom{N}{x}\\mu^x(1-\\mu)^{N-x} \\\\\n",
    "&= \\sum_{x=2}^N N(N-1) \\binom{N-2}{x-2}\\mu^2\\mu^{x-2}(1-\\mu)^{(N-2)-(x-2)} + \\mathrm{E}[x] \\\\\n",
    "&= N(N-1)\\mu^2 + N\\mu\n",
    "\\end{align*}\n",
    "$$\n",
    "\n",
    "$$\n",
    "\\begin{align*}\n",
    "\\mathrm{Var}[x] &= \\mathrm{E}[x^2] - \\mathrm{E}[x]^2 \\\\\n",
    "&= N(N-1)\\mu^2 + N\\mu - (N\\mu)^2 \\\\\n",
    "& = N\\mu(1-\\mu)\n",
    "\\end{align*}\n",
    "$$"
   ]
  },
  {
   "cell_type": "code",
   "execution_count": 3,
   "metadata": {
    "scrolled": true
   },
   "outputs": [
    {
     "data": {
      "image/png": "[encoded data removed]",
      "text/plain": [
       "<Figure size 864x288 with 2 Axes>"
      ]
     },
     "metadata": {
      "needs_background": "light"
     },
     "output_type": "display_data"
    }
   ],
   "source": [
    "def binomial(x, N, mu):\n",
    "    return np.array([comb(N, _x, exact=True)*(mu**_x)*(1-mu)**(N-_x) for _x in x])\n",
    "\n",
    "\n",
    "param_l = [\n",
    "    [10, 0.2], # N, mu\n",
    "    [10, 0.6]\n",
    "]\n",
    "\n",
    "fig = plt.figure(figsize=(12, 4))\n",
    "for i, (N, mu) in enumerate(param_l, 1):\n",
    "    x = np.array([i for i in range(N)])\n",
    "    p_x = binomial(x, N, mu)\n",
    "\n",
    "    ax = plt.subplot(1, 2, i)\n",
    "    ax.bar(x.astype(str), p_x, width=0.8)\n",
    "    ax.set_title(f\"二項分布 ($N={N}$, $\\mu={mu}$)\")\n",
    "    ax.set_xlabel(\"$x$\")\n",
    "    ax.set_ylabel(\"$p(x)$\")\n",
    "    ax.set_ylim(0, 0.4)\n",
    "    ax.grid(axis=\"y\")\n",
    "\n",
    "plt.tight_layout()\n",
    "plt.show()"
   ]
  },
  {
   "cell_type": "markdown",
   "metadata": {},
   "source": [
    "## ポアソン分布\n",
    "---\n",
    "### 概要\n",
    "- **稀な現象**が起こる回数の分布.\n",
    "- 二項分布において, $n\\to\\infty, p\\to0$\n",
    "- 平均と分散が等しい.\n",
    "\n",
    "### 質量関数\n",
    "$$\n",
    "\\begin{align*}\n",
    "p(x|\\lambda) = \\frac{\\lambda^x}{x!} e^{-\\lambda}, \\quad(x=0,1,2,...)\n",
    "\\end{align*}\n",
    "$$\n",
    "\n",
    "### 期待値\n",
    "$$\n",
    "\\begin{align*}\n",
    "\\mathrm{E}[x] &= \\sum_{x=0}^\\infty x\\frac{\\lambda^x}{x!} e^{-\\lambda} \\\\\n",
    "&= \\lambda e^{-\\lambda} \\sum_{x=1}^\\infty \\frac{\\lambda^{x-1}}{(x-1)!} \\\\\n",
    "&= \\lambda e^{-\\lambda} \\sum_{x=0}^\\infty \\frac{\\lambda^{x}}{x!} \\\\\n",
    "&= \\lambda e^{-\\lambda} e^{\\lambda} \\\\\n",
    "&= \\lambda\n",
    "\\end{align*}\n",
    "$$\n",
    "\n",
    "### 分散\n",
    "$$\n",
    "\\begin{align*}\n",
    "\\mathrm{E}[x^2] &= \\sum_{x=0}^\\infty x^2\\frac{\\lambda^x}{x!} e^{-\\lambda} \\\\\n",
    "&= \\sum_{x=0}^\\infty \\lbrace{x(x-1)+x\\rbrace}\\frac{\\lambda^x}{x!} e^{-\\lambda} \\\\\n",
    "&= \\sum_{x=0}^\\infty x(x-1)\\frac{\\lambda^x}{x!} e^{-\\lambda} + \\sum_{x=0}^\\infty x\\frac{\\lambda^x}{x!} e^{-\\lambda} \\\\\n",
    "&= \\lambda^2 e^{-\\lambda}\\sum_{x=2}^\\infty \\frac{\\lambda^{x-2}}{(x-2)!} + \\mathrm{E}[x] \\\\\n",
    "&= \\lambda^2 e^{-\\lambda}\\sum_{x=0}^\\infty \\frac{\\lambda^{x}}{x!} + \\lambda \\\\\n",
    "&= \\lambda^2 e^{-\\lambda} e^{\\lambda} + \\lambda \\\\\n",
    "&= \\lambda^2 + \\lambda \\\\\n",
    "\\end{align*}\n",
    "$$\n",
    "\n",
    "$$\n",
    "\\begin{align*}\n",
    "\\mathrm{Var}[x] &= \\mathrm{E}[x^2] - \\mathrm{E}[x]^2 \\\\\n",
    "&= \\lambda^2 + \\lambda - \\lambda^2 \\\\\n",
    "&= \\lambda\n",
    "\\end{align*}\n",
    "$$"
   ]
  },
  {
   "cell_type": "code",
   "execution_count": 4,
   "metadata": {
    "scrolled": true
   },
   "outputs": [
    {
     "data": {
      "image/png": "[encoded data removed]",
      "text/plain": [
       "<Figure size 864x288 with 2 Axes>"
      ]
     },
     "metadata": {
      "needs_background": "light"
     },
     "output_type": "display_data"
    }
   ],
   "source": [
    "def poisson(x, lam):\n",
    "    return (lam**x/np.vectorize(math.factorial)(x))*np.e**(-lam)\n",
    "\n",
    "param_l = [3, 5]\n",
    "\n",
    "fig = plt.figure(figsize=(12, 4))\n",
    "for i, lam in enumerate(param_l, 1):\n",
    "    x = np.array([i for i in range(20)])\n",
    "    p_x = poisson(x, lam)\n",
    "\n",
    "    ax = plt.subplot(1, 2, i)\n",
    "    ax.bar(x, p_x, width=0.8)\n",
    "    ax.set_title(f\"ポアソン分布 ($\\lambda={lam})$\")\n",
    "    ax.set_xlabel(\"$x$\")\n",
    "    ax.set_ylabel(\"$p(x)$\")\n",
    "    ax.set_ylim(0, 0.3)\n",
    "    ax.grid(axis=\"y\")\n",
    "\n",
    "plt.tight_layout()\n",
    "plt.show()"
   ]
  },
  {
   "cell_type": "markdown",
   "metadata": {},
   "source": [
    "## 幾何分布\n",
    "---\n",
    "### 概要\n",
    "- 成功確率 $\\mu$ のベルヌーイ試行を独立に $N$ 回行った時の, **初めて成功するまでに要した失敗回数**の分布.\n",
    "\n",
    "### 質量関数\n",
    "$$\n",
    "\\begin{align*}\n",
    "p(x|\\mu) = \\mu(1-\\mu)^x,\\quad(x=0,1,2,...)\n",
    "\\end{align*}\n",
    "$$\n",
    "\n",
    "### 期待値\n",
    "$$\n",
    "\\begin{align*}\n",
    "\\mathrm{E}[x] &= \\sum_{x=0}^\\infty x\\mu(1-\\mu)^x \\\\\n",
    "&= \\mu\\sum_{x=0}^\\infty x(1-\\mu)^x \\\\\n",
    "\\end{align*}\n",
    "$$\n",
    "\n",
    "ここで, $\\frac{1}{1-x}$ のマクローリン展開を考える.\n",
    "\n",
    "$$\n",
    "\\begin{align*}\n",
    "\\frac{1}{1-x} &= 1 + x + \\frac{1}{2}x^2 + \\frac{1}{3!}3!x^3 +... \\\\\n",
    "&= 1 + x + x^2 + x^3 + ... \\\\\n",
    "&= \\sum_{k=0}^\\infty x^k\n",
    "\\end{align*}\n",
    "$$\n",
    "\n",
    "両辺 $x$ で微分し, $x=1-\\mu, k=x$ とすると,\n",
    "\n",
    "$$\n",
    "\\begin{align*}\n",
    "\\frac{1}{(1-x)^2} &= \\sum_{k=0}^\\infty kx^{k-1} \\\\\n",
    "\\frac{1}{\\mu^2} &= \\sum_{x=0}^\\infty x(1-\\mu)^{x-1} \\\\\n",
    "&= \\frac{1}{1-\\mu}\\sum_{x=1}^\\infty x(1-\\mu)^{x} \\\\\n",
    "\\sum_{x=1}^\\infty x(1-\\mu)^{x} &= \\frac{1-\\mu}{\\mu^2} \\\\\n",
    "\\end{align*}\n",
    "$$\n",
    "\n",
    "$$\n",
    "\\begin{align*}\n",
    "\\mathrm{E}[x] &= \\mu\\sum_{x=0}^\\infty x(1-\\mu)^x \\\\\n",
    "&=  \\mu\\frac{1-\\mu}{\\mu^2} \\\\\n",
    "&= \\frac{1-\\mu}{\\mu}\n",
    "\\end{align*}\n",
    "$$\n",
    "\n",
    "### 分散\n",
    "$\\frac{1}{1-x}$ のマクローリン展開の結果について, もう一度両辺微分し,\n",
    "\n",
    "$$\n",
    "\\begin{align*}\n",
    "\\frac{2}{(1-x)^3} &= \\sum_{k=0}^\\infty k(k-1)x^{k-2} \\\\\n",
    "\\end{align*}\n",
    "$$\n",
    "\n",
    "$x=1-\\mu, k=x$ とすると,\n",
    "\n",
    "$$\n",
    "\\begin{align*}\n",
    "\\frac{2}{\\mu^3} &= \\sum_{x=0}^\\infty x(x-1)(1-\\mu)^{x-2} \\\\\n",
    "\\frac{2(1-\\mu)^2}{\\mu^2} &= \\sum_{x=0}^\\infty x(x-1)\\mu(1-\\mu)^{x} \\\\\n",
    "&= \\mathrm{E}[x(x-1)]\n",
    "\\end{align*}\n",
    "$$\n",
    "\n",
    "となるので,\n",
    "\n",
    "$$\n",
    "\\begin{align*}\n",
    "\\mathrm{Var}[x] &= \\mathrm{E}[x^2] - \\mathrm{E}[x]^2 \\\\\n",
    "&= \\mathrm{E}[x(x-1)] + \\mathrm{E}[x] - \\mathrm{E}[x]^2 \\\\\n",
    "&= \\frac{2(1-\\mu)^2}{\\mu^2} + \\frac{1-\\mu}{\\mu} - \\left\\lbrace \\frac{1-\\mu}{\\mu} \\right\\rbrace ^2 \\\\\n",
    "&= \\frac{1-\\mu}{\\mu^2}\n",
    "\\end{align*}\n",
    "$$"
   ]
  },
  {
   "cell_type": "code",
   "execution_count": 5,
   "metadata": {},
   "outputs": [
    {
     "data": {
      "image/png": "[encoded data removed]",
      "text/plain": [
       "<Figure size 864x288 with 2 Axes>"
      ]
     },
     "metadata": {
      "needs_background": "light"
     },
     "output_type": "display_data"
    }
   ],
   "source": [
    "def geometric(x, mu):\n",
    "    return mu*(1-mu)**x\n",
    "\n",
    "\n",
    "param_l = [0.3, 0.6]\n",
    "\n",
    "fig = plt.figure(figsize=(12, 4))\n",
    "for i, mu in enumerate(param_l, 1):\n",
    "    x = np.array([i for i in range(20)])\n",
    "    p_x = geometric(x, mu)\n",
    "\n",
    "    ax = plt.subplot(1, 2, i)\n",
    "    ax.bar(x, p_x, width=0.8)\n",
    "    ax.set_title(f\"幾何分布 ($\\mu={mu})$\")\n",
    "    ax.set_xlabel(\"$x$\")\n",
    "    ax.set_ylabel(\"$p(x)$\")\n",
    "    ax.set_ylim(0, 0.65)\n",
    "    ax.grid(axis=\"y\")\n",
    "\n",
    "plt.tight_layout()\n",
    "plt.show()"
   ]
  },
  {
   "cell_type": "markdown",
   "metadata": {},
   "source": [
    "## 負の二項分布\n",
    "---\n",
    "### 概要\n",
    "- 成功確率 $\\mu$ のベルヌーイ試行について, **$r$ 回成功するまでに要した失敗回数**の分布.\n",
    "- 合計 $r+x$ 回の試行のうち, 成功が $r$ 回, 失敗が $x$ 回となる.\n",
    "\n",
    "### 質量関数\n",
    "$$\n",
    "\\begin{align*}\n",
    "p(x|r,\\mu) = \\binom{r+x-1}{x}\\mu^r(1-\\mu)^x,\\quad(x=0,1,2,...)\n",
    "\\end{align*}\n",
    "$$\n",
    "\n",
    "### 期待値\n",
    "$$\n",
    "\\begin{align*}\n",
    "\\mathrm{E}[x] =\n",
    "\\end{align*}\n",
    "$$\n",
    "\n",
    "### 分散\n",
    "$$\n",
    "\\begin{align*}\n",
    "\\mathrm{Var}[x] =\n",
    "\\end{align*}\n",
    "$$"
   ]
  },
  {
   "cell_type": "code",
   "execution_count": 6,
   "metadata": {},
   "outputs": [
    {
     "data": {
      "image/png": "[encoded data removed]",
      "text/plain": [
       "<Figure size 864x288 with 2 Axes>"
      ]
     },
     "metadata": {
      "needs_background": "light"
     },
     "output_type": "display_data"
    }
   ],
   "source": [
    "def neg_binomial(x, r, mu):\n",
    "    return np.array([comb(r+_x-1, _x, exact=True)*(mu**r)*(1-mu)**_x for _x in x])\n",
    "\n",
    "\n",
    "param_l = [\n",
    "    [3, 0.3], # r, mu\n",
    "    [3, 0.6]\n",
    "]\n",
    "\n",
    "fig = plt.figure(figsize=(12, 4))\n",
    "for i, (r, mu) in enumerate(param_l, 1):\n",
    "    x = np.array([i for i in range(10)])\n",
    "    p_x = neg_binomial(x, r, mu)\n",
    "\n",
    "    ax = plt.subplot(1, 2, i)\n",
    "    ax.bar(x.astype(str), p_x, width=0.8)\n",
    "    ax.set_title(f\"負の二項分布 ($r={r}$, $\\mu={mu}$)\")\n",
    "    ax.set_xlabel(\"$x$\")\n",
    "    ax.set_ylabel(\"$p(x)$\")\n",
    "    ax.set_ylim(0, 0.3)\n",
    "    ax.grid(axis=\"y\")\n",
    "\n",
    "plt.tight_layout()\n",
    "plt.show()"
   ]
  },
  {
   "cell_type": "markdown",
   "metadata": {},
   "source": [
    "## 超幾何分布\n",
    "---\n",
    "### 概要\n",
    "- $M$ 個の赤いボールと $N-M$ 個の白いボールが入っている壺の中から, $K$ 個のボールを無作為に**非復元抽出**した場合に含まれている赤いボールの個数の分布.\n",
    "\n",
    "### 質量関数\n",
    "$$\n",
    "\\begin{align*}\n",
    "p(x|N,M,K) = \\frac{\\binom{M}{x}\\binom{N-M}{K-x}}{\\binom{N}{K}},\\quad(x=0,1,2,...,K)\n",
    "\\end{align*}\n",
    "$$\n",
    "\n",
    "### 期待値\n",
    "$$\n",
    "\\begin{align*}\n",
    "\\mathrm{E}[x] &= \\sum_{x=0}^K x\\frac{\\binom{M}{x}\\binom{N-M}{K-x}}{\\binom{N}{K}} \\\\\n",
    "&= \\sum_{x=1}^K \\frac{M\\binom{M-1}{x-1}\\binom{(N-1)-(M-1)}{(K-1)-(x-1)}}{\\frac{N}{K}\\binom{N-1}{K-1}} \\\\\n",
    "&= K\\frac{M}{N}\\sum_{x=1}^K \\frac{\\binom{M-1}{x-1}\\binom{(N-1)-(M-1)}{(K-1)-(x-1)}}{\\binom{N-1}{K-1}} \\\\\n",
    "&= K\\frac{M}{N}\n",
    "\\end{align*}\n",
    "$$\n",
    "\n",
    "### 分散\n",
    "$$\n",
    "\\begin{align*}\n",
    "\\mathrm{E}[x(x-1)] &= \\sum_{x=0}^K x(x-1)\\frac{\\binom{M}{x}\\binom{N-M}{K-x}}{\\binom{N}{K}} \\\\\n",
    "&= \\sum_{x=2}^K \\frac{M(M-1)\\binom{M-2}{x-2}\\binom{(N-2)-(M-2)}{(K-2)-(x-2)}}{\\frac{N(N-1)}{K(K-1)}\\binom{N-2}{K-2}} \\\\\n",
    "&= K(K-1)\\frac{M(M-1)}{N(N-1)}\\sum_{x=2}^K \\frac{\\binom{M-2}{x-2}\\binom{(N-2)-(M-2)}{(K-2)-(x-2)}}{\\binom{N-2}{K-2}} \\\\\n",
    "&= K(K-1)\\frac{M(M-1)}{N(N-1)}\n",
    "\\end{align*}\n",
    "$$\n",
    "\n",
    "$$\n",
    "\\begin{align*}\n",
    "\\mathrm{Var}[x] &= \\mathrm{E}[x(x-1)] + \\mathrm{E}[x] - \\mathrm{E}[x]^2 \\\\\n",
    "&= K(K-1)\\frac{M(M-1)}{N(N-1)} + K\\frac{M}{N} - \\left(K\\frac{M}{N}\\right)^2 \\\\\n",
    "&= \\frac{N-K}{N-1}\\frac{M}{N}\\frac{N-M}{N}K \n",
    "\\end{align*}\n",
    "$$"
   ]
  },
  {
   "cell_type": "code",
   "execution_count": 7,
   "metadata": {
    "scrolled": true
   },
   "outputs": [
    {
     "data": {
      "image/png": "[encoded data removed]",
      "text/plain": [
       "<Figure size 864x288 with 2 Axes>"
      ]
     },
     "metadata": {
      "needs_background": "light"
     },
     "output_type": "display_data"
    }
   ],
   "source": [
    "def hyper_geo(x, N, M, K):\n",
    "    return np.array([comb(M, _x, exact=True)*comb(N-M, K-_x, exact=True)/comb(N, K, exact=True) for _x in x])\n",
    "\n",
    "\n",
    "param_l = [\n",
    "    [20, 5, 10], # N, M, K\n",
    "    [20, 10, 10]\n",
    "]\n",
    "\n",
    "fig = plt.figure(figsize=(12, 4))\n",
    "for i, (N, M, K) in enumerate(param_l, 1):\n",
    "    x = np.array([i for i in range(10)])\n",
    "    p_x = hyper_geo(x, N, M, K)\n",
    "\n",
    "    ax = plt.subplot(1, 2, i)\n",
    "    ax.bar(x.astype(str), p_x, width=0.8)\n",
    "    ax.set_title(f\"超幾何分布 ($N={N}$, $M={M}$, $K={K}$)\")\n",
    "    ax.set_xlabel(\"$x$\")\n",
    "    ax.set_ylabel(\"$p(x)$\")\n",
    "    ax.grid(axis=\"y\")\n",
    "\n",
    "plt.tight_layout()\n",
    "plt.show()"
   ]
  }
 ],
 "metadata": {
  "kernelspec": {
   "display_name": "Python 3",
   "language": "python",
   "name": "python3"
  },
  "language_info": {
   "codemirror_mode": {
    "name": "ipython",
    "version": 3
   },
   "file_extension": ".py",
   "mimetype": "text/x-python",
   "name": "python",
   "nbconvert_exporter": "python",
   "pygments_lexer": "ipython3",
   "version": "3.8.3"
  }
 },
 "nbformat": 4,
 "nbformat_minor": 4
}
