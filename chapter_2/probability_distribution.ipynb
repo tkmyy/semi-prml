{
 "cells": [
  {
   "cell_type": "markdown",
   "metadata": {},
   "source": [
    "随時更新"
   ]
  },
  {
   "cell_type": "code",
   "execution_count": 1,
   "metadata": {},
   "outputs": [],
   "source": [
    "import numpy as np\n",
    "import pandas as pd\n",
    "import matplotlib.pyplot as plt\n",
    "from scipy.special import comb\n",
    "\n",
    "plt.rcParams[\"font.size\"] = 16\n",
    "plt.rcParams[\"axes.axisbelow\"] = True"
   ]
  },
  {
   "cell_type": "markdown",
   "metadata": {},
   "source": [
    "### ベルヌーイ分布\n",
    "\n",
    "#### 概要\n",
    "確率 $\\mu$ で成功, 確率 $1-\\mu$ で失敗する試行を表現した分布. 確率変数 $x$ は成功の時 1, 失敗の時 0 をとるものとする.\n",
    "\n",
    "#### 質量関数\n",
    "$$\n",
    "    p(x|\\mu) = \\mu^{x}(1-\\mu)^{1-x}\n",
    "$$\n",
    "\n",
    "#### 期待値\n",
    "$$\n",
    "    \\mathrm{E}[x] = \\mu\n",
    "$$\n",
    "\n",
    "#### 分散\n",
    "$$\n",
    "    \\mathrm{Var}[x] = \\mu(1-\\mu)\n",
    "$$"
   ]
  },
  {
   "cell_type": "code",
   "execution_count": 2,
   "metadata": {},
   "outputs": [
    {
     "data": {
      "image/png": "[encoded data removed]",
      "text/plain": [
       "<Figure size 432x288 with 1 Axes>"
      ]
     },
     "metadata": {
      "needs_background": "light"
     },
     "output_type": "display_data"
    }
   ],
   "source": [
    "def bernoulli(x, mu):\n",
    "    return mu**x * (1-mu)**(1-x)\n",
    "\n",
    "x = np.array([0, 1])\n",
    "p_x = bernoulli(x, mu=0.6)\n",
    "\n",
    "plt.figure(figsize=(6, 4))\n",
    "plt.bar(x.astype(str), p_x, width=0.5)\n",
    "plt.title(\"Bernoulli distribution\")\n",
    "plt.xlabel(\"x\")\n",
    "plt.ylabel(\"p(x)\")\n",
    "plt.grid()\n",
    "plt.show()"
   ]
  },
  {
   "cell_type": "markdown",
   "metadata": {},
   "source": [
    "### 二項分布\n",
    "\n",
    "#### 概要\n",
    "ベルヌーイ試行を独立に $N$ 回行った時の, 成功回数の分布.\n",
    "\n",
    "#### 質量関数\n",
    "$$\n",
    "    p(x|N,\\mu) = \\binom{N}{x}\\mu^x(1-\\mu)^{N-x}\n",
    "$$\n",
    "\n",
    "#### 期待値\n",
    "$$\n",
    "    \\mathrm{E}[x] = N\\mu\n",
    "$$\n",
    "\n",
    "#### 分散\n",
    "$$\n",
    "    \\mathrm{Var}[x] = N\\mu(1-\\mu)\n",
    "$$"
   ]
  },
  {
   "cell_type": "code",
   "execution_count": 3,
   "metadata": {},
   "outputs": [
    {
     "data": {
      "image/png": "[encoded data removed]",
      "text/plain": [
       "<Figure size 432x288 with 1 Axes>"
      ]
     },
     "metadata": {
      "needs_background": "light"
     },
     "output_type": "display_data"
    }
   ],
   "source": [
    "def binomial(x, N, mu):\n",
    "    return np.array([comb(N, _x, exact=True)*(mu**_x)*(1-mu)**(N-_x) for _x in x])\n",
    "\n",
    "x = np.array([i for i in range(10)])\n",
    "p_x = binomial(x, N=10, mu=0.2)\n",
    "\n",
    "plt.figure(figsize=(6, 4))\n",
    "plt.bar(x.astype(str), p_x, width=0.8)\n",
    "plt.title(\"Binomial distribution\")\n",
    "plt.xlabel(\"x\")\n",
    "plt.ylabel(\"p(x)\")\n",
    "plt.grid()\n",
    "plt.show()"
   ]
  },
  {
   "cell_type": "code",
   "execution_count": null,
   "metadata": {},
   "outputs": [],
   "source": []
  }
 ],
 "metadata": {
  "kernelspec": {
   "display_name": "Python 3",
   "language": "python",
   "name": "python3"
  },
  "language_info": {
   "codemirror_mode": {
    "name": "ipython",
    "version": 3
   },
   "file_extension": ".py",
   "mimetype": "text/x-python",
   "name": "python",
   "nbconvert_exporter": "python",
   "pygments_lexer": "ipython3",
   "version": "3.8.3"
  }
 },
 "nbformat": 4,
 "nbformat_minor": 4
}
